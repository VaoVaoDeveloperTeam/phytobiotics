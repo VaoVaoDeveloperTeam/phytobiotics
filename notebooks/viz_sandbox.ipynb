{
 "cells": [
  {
   "cell_type": "code",
   "execution_count": 6,
   "metadata": {},
   "outputs": [],
   "source": [
    "viz_data = {\n",
    "    'especie': ['pollo', 'gallina', 'cerda'],\n",
    "    'conversion': [1.5, 2.0, 1.3]\n",
    "}"
   ]
  },
  {
   "cell_type": "code",
   "execution_count": 27,
   "metadata": {},
   "outputs": [
    {
     "name": "stdout",
     "output_type": "stream",
     "text": [
      "bar\n"
     ]
    }
   ],
   "source": [
    "from pydantic import BaseModel\n",
    "from typing import Dict, List, Union\n",
    "\n",
    "# Diccionario con las instrucciones de visualización\n",
    "viz_instructions = {\n",
    "    \"viz_type\": \"bar\",\n",
    "    'columns_data': {\n",
    "        \"especie\": [\"pollo\", \"gallina\", \"cerda\"],\n",
    "        'conversion': [1.5, 2.0, 1.3]\n",
    "    }\n",
    "}\n",
    "\n",
    "# Definición del modelo Pydantic\n",
    "class VizModel(BaseModel):\n",
    "    viz_type: str\n",
    "    columns_data: Dict[str, List[Union[str, float, int]]]\n",
    "\n",
    "# Crear la instancia del modelo desestructurando el diccionario con **viz_instructions\n",
    "viz= VizModel(**viz_instructions)\n",
    "\n",
    "# Mostrar el resultado\n",
    "print(viz.viz_type)"
   ]
  },
  {
   "cell_type": "code",
   "execution_count": 23,
   "metadata": {},
   "outputs": [
    {
     "ename": "TypeError",
     "evalue": "BaseModel.__init__() takes 1 positional argument but 2 were given",
     "output_type": "error",
     "traceback": [
      "\u001b[0;31m---------------------------------------------------------------------------\u001b[0m",
      "\u001b[0;31mTypeError\u001b[0m                                 Traceback (most recent call last)",
      "Cell \u001b[0;32mIn[23], line 1\u001b[0m\n\u001b[0;32m----> 1\u001b[0m viz_data_pydantic \u001b[38;5;241m=\u001b[39m \u001b[43mVizDataModel\u001b[49m\u001b[43m(\u001b[49m\u001b[43mviz_instructions\u001b[49m\u001b[43m)\u001b[49m\n",
      "\u001b[0;31mTypeError\u001b[0m: BaseModel.__init__() takes 1 positional argument but 2 were given"
     ]
    }
   ],
   "source": []
  },
  {
   "cell_type": "code",
   "execution_count": 14,
   "metadata": {},
   "outputs": [
    {
     "data": {
      "text/html": [
       "<div>\n",
       "<style scoped>\n",
       "    .dataframe tbody tr th:only-of-type {\n",
       "        vertical-align: middle;\n",
       "    }\n",
       "\n",
       "    .dataframe tbody tr th {\n",
       "        vertical-align: top;\n",
       "    }\n",
       "\n",
       "    .dataframe thead th {\n",
       "        text-align: right;\n",
       "    }\n",
       "</style>\n",
       "<table border=\"1\" class=\"dataframe\">\n",
       "  <thead>\n",
       "    <tr style=\"text-align: right;\">\n",
       "      <th></th>\n",
       "      <th>especie</th>\n",
       "      <th>conversion</th>\n",
       "    </tr>\n",
       "  </thead>\n",
       "  <tbody>\n",
       "    <tr>\n",
       "      <th>0</th>\n",
       "      <td>pollo</td>\n",
       "      <td>1.5</td>\n",
       "    </tr>\n",
       "    <tr>\n",
       "      <th>1</th>\n",
       "      <td>gallina</td>\n",
       "      <td>2.0</td>\n",
       "    </tr>\n",
       "    <tr>\n",
       "      <th>2</th>\n",
       "      <td>cerda</td>\n",
       "      <td>1.3</td>\n",
       "    </tr>\n",
       "  </tbody>\n",
       "</table>\n",
       "</div>"
      ],
      "text/plain": [
       "   especie  conversion\n",
       "0    pollo         1.5\n",
       "1  gallina         2.0\n",
       "2    cerda         1.3"
      ]
     },
     "execution_count": 14,
     "metadata": {},
     "output_type": "execute_result"
    }
   ],
   "source": [
    "import pandas as pd\n",
    "df = pd.DataFrame(viz_data)\n",
    "df"
   ]
  },
  {
   "cell_type": "code",
   "execution_count": 12,
   "metadata": {},
   "outputs": [
    {
     "data": {
      "text/html": [
       "\n",
       "<style>\n",
       "  #altair-viz-2d37c6829ce840288995407a1e349d23.vega-embed {\n",
       "    width: 100%;\n",
       "    display: flex;\n",
       "  }\n",
       "\n",
       "  #altair-viz-2d37c6829ce840288995407a1e349d23.vega-embed details,\n",
       "  #altair-viz-2d37c6829ce840288995407a1e349d23.vega-embed details summary {\n",
       "    position: relative;\n",
       "  }\n",
       "</style>\n",
       "<div id=\"altair-viz-2d37c6829ce840288995407a1e349d23\"></div>\n",
       "<script type=\"text/javascript\">\n",
       "  var VEGA_DEBUG = (typeof VEGA_DEBUG == \"undefined\") ? {} : VEGA_DEBUG;\n",
       "  (function(spec, embedOpt){\n",
       "    let outputDiv = document.currentScript.previousElementSibling;\n",
       "    if (outputDiv.id !== \"altair-viz-2d37c6829ce840288995407a1e349d23\") {\n",
       "      outputDiv = document.getElementById(\"altair-viz-2d37c6829ce840288995407a1e349d23\");\n",
       "    }\n",
       "    const paths = {\n",
       "      \"vega\": \"https://cdn.jsdelivr.net/npm/vega@5?noext\",\n",
       "      \"vega-lib\": \"https://cdn.jsdelivr.net/npm/vega-lib?noext\",\n",
       "      \"vega-lite\": \"https://cdn.jsdelivr.net/npm/vega-lite@5.20.1?noext\",\n",
       "      \"vega-embed\": \"https://cdn.jsdelivr.net/npm/vega-embed@6?noext\",\n",
       "    };\n",
       "\n",
       "    function maybeLoadScript(lib, version) {\n",
       "      var key = `${lib.replace(\"-\", \"\")}_version`;\n",
       "      return (VEGA_DEBUG[key] == version) ?\n",
       "        Promise.resolve(paths[lib]) :\n",
       "        new Promise(function(resolve, reject) {\n",
       "          var s = document.createElement('script');\n",
       "          document.getElementsByTagName(\"head\")[0].appendChild(s);\n",
       "          s.async = true;\n",
       "          s.onload = () => {\n",
       "            VEGA_DEBUG[key] = version;\n",
       "            return resolve(paths[lib]);\n",
       "          };\n",
       "          s.onerror = () => reject(`Error loading script: ${paths[lib]}`);\n",
       "          s.src = paths[lib];\n",
       "        });\n",
       "    }\n",
       "\n",
       "    function showError(err) {\n",
       "      outputDiv.innerHTML = `<div class=\"error\" style=\"color:red;\">${err}</div>`;\n",
       "      throw err;\n",
       "    }\n",
       "\n",
       "    function displayChart(vegaEmbed) {\n",
       "      vegaEmbed(outputDiv, spec, embedOpt)\n",
       "        .catch(err => showError(`Javascript Error: ${err.message}<br>This usually means there's a typo in your chart specification. See the javascript console for the full traceback.`));\n",
       "    }\n",
       "\n",
       "    if(typeof define === \"function\" && define.amd) {\n",
       "      requirejs.config({paths});\n",
       "      require([\"vega-embed\"], displayChart, err => showError(`Error loading script: ${err.message}`));\n",
       "    } else {\n",
       "      maybeLoadScript(\"vega\", \"5\")\n",
       "        .then(() => maybeLoadScript(\"vega-lite\", \"5.20.1\"))\n",
       "        .then(() => maybeLoadScript(\"vega-embed\", \"6\"))\n",
       "        .catch(showError)\n",
       "        .then(() => displayChart(vegaEmbed));\n",
       "    }\n",
       "  })({\"config\": {\"view\": {\"continuousWidth\": 300, \"continuousHeight\": 300}}, \"data\": {\"name\": \"data-b4e9aef409058564ff4e9a46fad4ce65\"}, \"mark\": {\"type\": \"bar\"}, \"encoding\": {\"x\": {\"field\": \"especie\", \"type\": \"nominal\"}, \"y\": {\"field\": \"conversion\", \"type\": \"quantitative\"}}, \"$schema\": \"https://vega.github.io/schema/vega-lite/v5.20.1.json\", \"datasets\": {\"data-b4e9aef409058564ff4e9a46fad4ce65\": [{\"especie\": \"pollo\", \"conversion\": 1.5}, {\"especie\": \"gallina\", \"conversion\": 2.0}, {\"especie\": \"cerda\", \"conversion\": 1.3}]}}, {\"mode\": \"vega-lite\"});\n",
       "</script>"
      ],
      "text/plain": [
       "alt.Chart(...)"
      ]
     },
     "execution_count": 12,
     "metadata": {},
     "output_type": "execute_result"
    }
   ],
   "source": [
    "import altair as alt\n",
    "import pandas as pd\n",
    "\n",
    "source = pd.DataFrame({\n",
    "    'especie': ['pollo', 'gallina', 'cerda'],\n",
    "    'conversion': [1.5, 2.0, 1.3]\n",
    "})\n",
    "\n",
    "alt.Chart(source).mark_bar().encode(\n",
    "    x='especie',\n",
    "    y='conversion'\n",
    ")"
   ]
  },
  {
   "cell_type": "code",
   "execution_count": 3,
   "metadata": {},
   "outputs": [
    {
     "name": "stdout",
     "output_type": "stream",
     "text": [
      "   x   y\n",
      "0  A  10\n",
      "1  B  20\n",
      "2  C  30\n",
      "3  D  40\n"
     ]
    }
   ],
   "source": [
    "import pandas as pd\n",
    "\n",
    "viz_instructions = {\n",
    "    'viz_type': '',  # Tipo de gráfico: 'bar', 'line', 'scatter', etc.\n",
    "    'viz_data': {\n",
    "        'x': [],  # Eje X (obligatorio para estos gráficos)\n",
    "        'y': [],  # Eje Y (obligatorio para estos gráficos)\n",
    "        'title': '',  # Título del gráfico\n",
    "        'x_label': '',  # Etiqueta del eje X\n",
    "        'y_label': '',  # Etiqueta del eje Y\n",
    "    }\n",
    "}\n",
    "\n",
    "# Función para convertir los datos en un DataFrame\n",
    "def convert_to_dataframe(viz_instructions):\n",
    "    x_data = viz_instructions['viz_data'].get('x', [])\n",
    "    y_data = viz_instructions['viz_data'].get('y', [])\n",
    "    \n",
    "    # Verificar si ambos tienen la misma longitud\n",
    "    if len(x_data) == len(y_data):\n",
    "        df = pd.DataFrame({'x': x_data, 'y': y_data})\n",
    "        return df\n",
    "    else:\n",
    "        print(\"Error: Los datos de 'x' e 'y' tienen longitudes diferentes.\")\n",
    "        return None\n",
    "\n",
    "# Ejemplo de uso con un gráfico de barras\n",
    "viz_instructions['viz_type'] = 'bar'\n",
    "viz_instructions['viz_data'] = {\n",
    "    'x': ['A', 'B', 'C', 'D'],\n",
    "    'y': [10, 20, 30, 40],\n",
    "    'title': 'Bar Chart Example',\n",
    "    'x_label': 'Categories',\n",
    "    'y_label': 'Values'\n",
    "}\n",
    "\n",
    "# Convertir los datos en un DataFrame\n",
    "df = convert_to_dataframe(viz_instructions)\n",
    "\n",
    "# Mostrar el DataFrame\n",
    "print(df)\n"
   ]
  }
 ],
 "metadata": {
  "kernelspec": {
   "display_name": ".venv",
   "language": "python",
   "name": "python3"
  },
  "language_info": {
   "codemirror_mode": {
    "name": "ipython",
    "version": 3
   },
   "file_extension": ".py",
   "mimetype": "text/x-python",
   "name": "python",
   "nbconvert_exporter": "python",
   "pygments_lexer": "ipython3",
   "version": "3.11.9"
  }
 },
 "nbformat": 4,
 "nbformat_minor": 2
}
